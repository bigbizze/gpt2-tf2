{
 "cells": [
  {
   "cell_type": "code",
   "execution_count": 1,
   "metadata": {},
   "outputs": [],
   "source": [
    "%load_ext autoreload\n",
    "%autoreload 2"
   ]
  },
  {
   "cell_type": "code",
   "execution_count": 2,
   "metadata": {},
   "outputs": [],
   "source": [
    "import os\n",
    "import tensorflow as tf\n",
    "from gpt2_model import Gpt2\n",
    "import sentencepiece as spm\n",
    "from sample import SequenceGenerator"
   ]
  },
  {
   "cell_type": "code",
   "execution_count": 3,
   "metadata": {},
   "outputs": [],
   "source": [
    "bpe_data_path = \"./data/bpe_model.model\"\n",
    "model_path = \"./model\"\n",
    "model_param = \"./model/model_par.json\""
   ]
  },
  {
   "cell_type": "code",
   "execution_count": 4,
   "metadata": {},
   "outputs": [
    {
     "name": "stdout",
     "output_type": "stream",
     "text": [
      "Model weights loaded into memory\n"
     ]
    }
   ],
   "source": [
    "sg = SequenceGenerator(model_path, model_param, bpe_data_path) \n",
    "sg.load_weights() "
   ]
  },
  {
   "cell_type": "code",
   "execution_count": 15,
   "metadata": {},
   "outputs": [],
   "source": [
    "context = \"context\""
   ]
  },
  {
   "cell_type": "code",
   "execution_count": 16,
   "metadata": {},
   "outputs": [
    {
     "name": "stdout",
     "output_type": "stream",
     "text": [
      "Predicted end of sequence.\n"
     ]
    },
    {
     "data": {
      "text/plain": [
       "'context \" ⁇ ⁇ he ⁇ ew ⁇ neump\\'s ⁇ he ⁇ n the ⁇ he ⁇ h are be\\'s ⁇ he ⁇ h\\'he ⁇ hump of ⁇ h, ⁇ ezbollah, a ⁇ e\\'s ⁇ eump of the ⁇ rump, ⁇ he ⁇ het be ⁇ rump of ⁇ .'"
      ]
     },
     "execution_count": 16,
     "metadata": {},
     "output_type": "execute_result"
    }
   ],
   "source": [
    "sg.sample_sequence(context,\n",
    "                   seq_len=512,\n",
    "                   temperature=1,\n",
    "                   top_k=8,\n",
    "                   top_p=0.9,\n",
    "                   nucleus_sampling=True)"
   ]
  },
  {
   "cell_type": "code",
   "execution_count": null,
   "metadata": {},
   "outputs": [],
   "source": []
  },
  {
   "cell_type": "code",
   "execution_count": null,
   "metadata": {},
   "outputs": [],
   "source": []
  }
 ],
 "metadata": {
  "kernelspec": {
   "display_name": "Python 3",
   "language": "python",
   "name": "python3"
  },
  "language_info": {
   "codemirror_mode": {
    "name": "ipython",
    "version": 3
   },
   "file_extension": ".py",
   "mimetype": "text/x-python",
   "name": "python",
   "nbconvert_exporter": "python",
   "pygments_lexer": "ipython3",
   "version": "3.7.4"
  }
 },
 "nbformat": 4,
 "nbformat_minor": 2
}
